{
 "cells": [
  {
   "cell_type": "code",
   "execution_count": null,
   "metadata": {},
   "outputs": [],
   "source": [
    "# Examples and images from tensors.net"
   ]
  },
  {
   "cell_type": "code",
   "execution_count": 47,
   "metadata": {},
   "outputs": [],
   "source": [
    "import numpy as np"
   ]
  },
  {
   "cell_type": "markdown",
   "metadata": {},
   "source": [
    "## Tensor contraction with Numpy"
   ]
  },
  {
   "cell_type": "markdown",
   "metadata": {},
   "source": [
    "![Contraction](imgs/contraction.png)\n"
   ]
  },
  {
   "cell_type": "code",
   "execution_count": 46,
   "metadata": {},
   "outputs": [],
   "source": [
    "d = 10\n",
    "A = np.random.rand(d,d,d,d)\n",
    "B = np.random.rand(d,d,d,d)"
   ]
  },
  {
   "cell_type": "markdown",
   "metadata": {},
   "source": [
    "![Contraction steps](imgs/contraction-steps.png)"
   ]
  },
  {
   "cell_type": "code",
   "execution_count": 39,
   "metadata": {},
   "outputs": [],
   "source": [
    "#1. Permute the A and B tensors such that the indices to be contracted becoming\n",
    "# the trailing and leading indices respectively (with conssitent order between\n",
    "# both tensors)\n",
    "Ap = A.transpose(0,2,1,3)\n",
    "Bp = B.transpose(0,3,1,2)"
   ]
  },
  {
   "cell_type": "code",
   "execution_count": 40,
   "metadata": {},
   "outputs": [],
   "source": [
    "#2. Reshape tensors into matrices (between indices to be contracted versus the remaining indices)\n",
    "App = Ap.reshape(d**2,d**2)\n",
    "Bpp = Bp.reshape(d**2,d**2)"
   ]
  },
  {
   "cell_type": "code",
   "execution_count": 41,
   "metadata": {},
   "outputs": [],
   "source": [
    "#3. Do the matrix multiplication\n",
    "Cpp = App @ Bpp"
   ]
  },
  {
   "cell_type": "code",
   "execution_count": 43,
   "metadata": {},
   "outputs": [],
   "source": [
    "#4. Reshape C back into a tensor, perform final permutation if desired index ordering is different from current\n",
    "C = Cpp.reshape(d,d,d,d)"
   ]
  },
  {
   "cell_type": "markdown",
   "metadata": {},
   "source": [
    "## Tensor decomposition"
   ]
  },
  {
   "cell_type": "code",
   "execution_count": 10,
   "metadata": {},
   "outputs": [],
   "source": [
    "from numpy import linalg as LA\n",
    "from ncon import ncon # Library from https://github.com/mhauru/ncon"
   ]
  },
  {
   "cell_type": "code",
   "execution_count": 27,
   "metadata": {},
   "outputs": [
    {
     "name": "stdout",
     "output_type": "stream",
     "text": [
      "A shape: (10, 6)\n",
      "Af shape: (10, 6)\n",
      "1.5860799769742405e-15\n",
      "[[-9.71445147e-17 -4.44089210e-16 -5.55111512e-17  0.00000000e+00\n",
      "   8.32667268e-17 -2.22044605e-16]\n",
      " [ 1.11022302e-16  2.22044605e-16 -1.66533454e-16 -1.11022302e-16\n",
      "  -3.33066907e-16 -1.11022302e-16]\n",
      " [ 0.00000000e+00  3.33066907e-16 -3.33066907e-16 -2.22044605e-16\n",
      "  -5.55111512e-16  0.00000000e+00]\n",
      " [ 5.55111512e-17  1.11022302e-16 -5.55111512e-17 -2.22044605e-16\n",
      "   0.00000000e+00 -1.11022302e-16]\n",
      " [-2.22044605e-16  5.55111512e-17 -5.55111512e-17 -8.32667268e-17\n",
      "  -2.77555756e-16 -2.22044605e-16]\n",
      " [-2.22044605e-16 -1.11022302e-16  0.00000000e+00 -1.11022302e-16\n",
      "  -2.22044605e-16  0.00000000e+00]\n",
      " [-2.22044605e-16 -1.80411242e-16 -5.55111512e-17 -2.22044605e-16\n",
      "  -3.33066907e-16 -2.77555756e-16]\n",
      " [-2.22044605e-16 -5.55111512e-17 -1.94289029e-16 -1.11022302e-16\n",
      "  -3.33066907e-16 -2.77555756e-16]\n",
      " [-2.22044605e-16  3.33066907e-16  0.00000000e+00 -1.11022302e-16\n",
      "  -2.77555756e-17 -1.11022302e-16]\n",
      " [-1.11022302e-16  0.00000000e+00 -4.71844785e-16 -2.77555756e-17\n",
      "  -1.11022302e-16 -8.32667268e-17]]\n"
     ]
    }
   ],
   "source": [
    "##### Ex2.2(a): SVD of matrix\n",
    "d1 = 10\n",
    "d2 = 6\n",
    "\n",
    "A = np.random.rand(d1,d2)\n",
    "\n",
    "[U,S,Vh] = LA.svd(A, full_matrices=False)\n",
    "\n",
    "# check result\n",
    "Af = U @ np.diag(S) @ Vh\n",
    "dA = LA.norm(Af-A) \n",
    "\n",
    "print(\"A shape: {}\".format(A.shape))\n",
    "print(\"Af shape: {}\".format(Af.shape))\n",
    "print(dA)\n",
    "print(A - Af)"
   ]
  },
  {
   "cell_type": "code",
   "execution_count": 14,
   "metadata": {},
   "outputs": [
    {
     "name": "stdout",
     "output_type": "stream",
     "text": [
      "[[-0.30541239 -0.2300157   0.09856029 -0.64787275  0.01118035 -0.28015183]\n",
      " [-0.39103982  0.33270347 -0.17517714  0.37845727  0.140369   -0.12910614]\n",
      " [-0.34632264  0.31499202 -0.09560308 -0.24862163  0.40621092  0.4041008 ]\n",
      " [-0.31582716 -0.22205691  0.48251923  0.00747775 -0.18112083 -0.16443598]\n",
      " [-0.23957282 -0.5963247  -0.1343162  -0.09733224  0.28377994  0.38596452]\n",
      " [-0.31882471  0.37959043  0.27098677 -0.07954835 -0.19582966  0.44111291]\n",
      " [-0.36113287  0.16488662 -0.54245984 -0.20542716 -0.19986361 -0.43575981]\n",
      " [-0.24533948 -0.14673795  0.16575799  0.39559935  0.59110667 -0.32846245]\n",
      " [-0.29283065  0.0533428   0.43412326  0.14242944 -0.27162401 -0.09228291]\n",
      " [-0.31420126 -0.36961441 -0.34052609  0.37466726 -0.44760139  0.25430368]]\n",
      "[4.00505739 1.50239398 1.05738004 0.89881046 0.83198137 0.22823822]\n",
      "[[-0.38497975 -0.31652608 -0.45455215 -0.44256714 -0.44806245 -0.3851734 ]\n",
      " [ 0.34161223 -0.62263931 -0.55231895  0.20378486  0.32098259  0.21449255]\n",
      " [ 0.70798844 -0.23972397  0.36276828 -0.39645033 -0.08839641 -0.38039081]\n",
      " [-0.1880174  -0.5829301   0.49014489  0.32575577 -0.46312638  0.25297644]\n",
      " [-0.03435918 -0.0322867   0.06628478 -0.68421059  0.03878526  0.72369532]\n",
      " [ 0.44419922  0.33736332 -0.33479787  0.1765566  -0.68731795  0.27056465]]\n"
     ]
    }
   ],
   "source": [
    "print(U)\n",
    "print(S)\n",
    "print(Vh)"
   ]
  },
  {
   "cell_type": "markdown",
   "metadata": {},
   "source": [
    "## MPS"
   ]
  },
  {
   "cell_type": "code",
   "execution_count": null,
   "metadata": {},
   "outputs": [],
   "source": []
  }
 ],
 "metadata": {
  "kernelspec": {
   "display_name": "Python 3",
   "language": "python",
   "name": "python3"
  },
  "language_info": {
   "codemirror_mode": {
    "name": "ipython",
    "version": 3
   },
   "file_extension": ".py",
   "mimetype": "text/x-python",
   "name": "python",
   "nbconvert_exporter": "python",
   "pygments_lexer": "ipython3",
   "version": "3.6.8"
  }
 },
 "nbformat": 4,
 "nbformat_minor": 2
}
